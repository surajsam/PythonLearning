{
 "cells": [
  {
   "cell_type": "raw",
   "id": "0e26a2f5-e58b-4496-9258-40dc50c2eef3",
   "metadata": {},
   "source": [
    "Write a program to print numbers from 1 to n. For multiples of 3, print \"Fizz\" instead of the number. For multiples of 4, print \"Buzz\". For multiples of both 3 and 4, print \"FizzBuzz\".\n",
    "\n",
    "\n",
    "\n",
    "Sample Input:\n",
    "\n",
    "10\n",
    "\n",
    "\n",
    "\n",
    "Sample Output:\n",
    "\n",
    "1\n",
    "\n",
    "2\n",
    "\n",
    "Fizz\n",
    "\n",
    "Buzz\n",
    "\n",
    "5\n",
    "\n",
    "Fizz\n",
    "\n",
    "7\n",
    "\n",
    "Buzz\n",
    "\n",
    "Fizz\n",
    "\n",
    "10"
   ]
  },
  {
   "cell_type": "code",
   "execution_count": 1,
   "id": "b063de35-bfcb-4caf-9559-b2ebc2aa5a1b",
   "metadata": {},
   "outputs": [
    {
     "name": "stdin",
     "output_type": "stream",
     "text": [
      " 10\n"
     ]
    },
    {
     "name": "stdout",
     "output_type": "stream",
     "text": [
      "1\n",
      "2\n",
      "Fizz\n",
      "Buzz\n",
      "5\n",
      "Fizz\n",
      "7\n",
      "Buzz\n",
      "Fizz\n",
      "10\n"
     ]
    }
   ],
   "source": [
    "# Taking input\n",
    "n = int(input())\n",
    "\n",
    "# Write your code here\n",
    "for num in range(1, n+1):\n",
    "    if num%3 == 0 and num%4 == 0:\n",
    "        print(\"FizzBuzz\")\n",
    "    elif num%3 == 0:\n",
    "        print(\"Fizz\")\n",
    "    elif num%4 == 0:\n",
    "        print(\"Buzz\")\n",
    "    else:\n",
    "        print(num)"
   ]
  },
  {
   "cell_type": "raw",
   "id": "42291efa-f805-498c-8e3f-014b05e2794c",
   "metadata": {},
   "source": [
    "You are designing a basic program for a security checkpoint system at a restricted facility. A person is allowed to enter only if:\n",
    "\n",
    "\n",
    "\n",
    "Their age is 18 or older, and\n",
    "Their security clearance level is 3 or higher\n",
    "\n",
    "\n",
    "However, there’s a special rule:\n",
    "\n",
    "If the age is between 16 and 18 (exclusive), and the clearance level is 5, they may be allowed after manual verification.\n",
    "\n",
    "Write a program that takes two inputs: the age of the person and the security clearance level and based on the above rules, print exactly one of the following:\n",
    "\n",
    "\n",
    "\n",
    "\"Access Granted\"\n",
    "\"Manual Verification Required\"\n",
    "\"Access Denied\"\n",
    "\n",
    "\n",
    "Sample Input:\n",
    "\n",
    "20\n",
    "\n",
    "4\n",
    "\n",
    "\n",
    "\n",
    "Sample Output:\n",
    "\n",
    "Access Granted"
   ]
  },
  {
   "cell_type": "code",
   "execution_count": 3,
   "id": "ac42479c-bbd5-40a3-b2cc-636b12d5063e",
   "metadata": {},
   "outputs": [
    {
     "name": "stdin",
     "output_type": "stream",
     "text": [
      " 20\n",
      " 4\n"
     ]
    },
    {
     "name": "stdout",
     "output_type": "stream",
     "text": [
      "Access Granted\n"
     ]
    }
   ],
   "source": [
    "# Taking input\n",
    "age = int(input())\n",
    "clearance = int(input())\n",
    "\n",
    "# Write your code here\n",
    "if age > 16:\n",
    "    if age == 17 and clearance == 5:\n",
    "        print(\"Manual Verification Required\")\n",
    "    elif age > 17 and clearance > 2:\n",
    "        print(\"Access Granted\")\n",
    "    else:\n",
    "        print(\"Access Denied\")\n",
    "else:\n",
    "    print(\"Access Denied\")\n",
    "\n",
    "# Print the output\n"
   ]
  },
  {
   "cell_type": "raw",
   "id": "4b70b897-e383-4759-b2d8-e729f808afbe",
   "metadata": {},
   "source": [
    "A store offers discounts based on the customer's age and membership status. Given the customer's age and whether they are a member ('Y' for yes, 'N' for no), determine the discount percentage as follows:\n",
    "\n",
    "\n",
    "\n",
    "If age is below 18 or above 60:\n",
    "If member, discount is 20%\n",
    "Otherwise, discount is 10%\n",
    "\n",
    "Otherwise (age between 18 and 60 inclusive):\n",
    "If member, discount is 5%\n",
    "Otherwise, no discount\n",
    "\n",
    "\n",
    "Write a program to print the discount percentage such as \"20%\" or \"No Discount\" accordingly.\n",
    "\n",
    "\n",
    "\n",
    "\n",
    "\n",
    "Sample Input:\n",
    "\n",
    "65\n",
    "\n",
    "Y\n",
    "\n",
    "\n",
    "\n",
    "Sample Output:\n",
    "\n",
    "20%"
   ]
  },
  {
   "cell_type": "code",
   "execution_count": 5,
   "id": "0de5faa1-ae99-4d2f-b978-49d4796b61d8",
   "metadata": {},
   "outputs": [
    {
     "name": "stdin",
     "output_type": "stream",
     "text": [
      " 65\n",
      " Y\n"
     ]
    },
    {
     "name": "stdout",
     "output_type": "stream",
     "text": [
      "20%\n"
     ]
    }
   ],
   "source": [
    "# Taking input\n",
    "age = int(input())\n",
    "member = input()\n",
    "\n",
    "# Write your code here\n",
    "if age < 18 or age > 60:\n",
    "    if member == \"Y\":\n",
    "        print(\"20%\")\n",
    "    else:\n",
    "        print(\"10%\")\n",
    "else:\n",
    "    if member == \"Y\":\n",
    "        print(\"5%\")\n",
    "    else:\n",
    "        print(\"No Discount\")"
   ]
  },
  {
   "cell_type": "raw",
   "id": "bf38bbca-b3f0-4744-a182-950218382f86",
   "metadata": {},
   "source": [
    "A public library has a fine system for late returns:\n",
    "\n",
    "If the book is returned within 7 days, there is no fine.\n",
    "If returned between 8 and 15 days (inclusive), the fine is ₹2 per day for each day after day 7.\n",
    "If returned after 15 days, the fine is ₹2 per day from day 8 to 15, and ₹5 per day for every day after day 15.\n",
    "\n",
    "\n",
    "Write a program that reads the number of days a book is late and prints the total fine to be paid.\n",
    "\n",
    "\n",
    "\n",
    "Sample Input:\n",
    "\n",
    "10\n",
    "\n",
    "\n",
    "\n",
    "Sample Output:\n",
    "\n",
    "6"
   ]
  },
  {
   "cell_type": "code",
   "execution_count": 6,
   "id": "fe6b35ff-01fe-4f1f-8f41-1d301e649cee",
   "metadata": {},
   "outputs": [
    {
     "name": "stdin",
     "output_type": "stream",
     "text": [
      " 10\n"
     ]
    },
    {
     "name": "stdout",
     "output_type": "stream",
     "text": [
      "6\n"
     ]
    }
   ],
   "source": [
    "# Taking input\n",
    "days_late = int(input())\n",
    "\n",
    "# Write your code here\n",
    "if days_late < 8:\n",
    "    fine = 0\n",
    "elif days_late < 16:\n",
    "    fine = (days_late - 7) * 2\n",
    "else:\n",
    "    fine = 16 + (days_late - 15) * 5\n",
    "print(fine)\n",
    "\n",
    "# Print the output"
   ]
  },
  {
   "cell_type": "raw",
   "id": "dfa9412c-261c-466b-9371-873da7774ff7",
   "metadata": {},
   "source": [
    "Given a number of rows, write a program to print a pattern of numbers starting from 1 and increasing continuously in each row. The first row should have 1 number, the second row 2 numbers, the third row 3 numbers, and so on.\n",
    "\n",
    "\n",
    "\n",
    "Note : The input n will be a positive integer\n",
    "\n",
    "\n",
    "\n",
    "\n",
    "\n",
    "Sample Input:\n",
    "\n",
    "5\n",
    "\n",
    "\n",
    "\n",
    "Sample Output:\n",
    "\n",
    "1 \n",
    "\n",
    "2 3 \n",
    "\n",
    "4 5 6 \n",
    "\n",
    "7 8 9 10 \n",
    "\n",
    "11 12 13 14 15"
   ]
  },
  {
   "cell_type": "code",
   "execution_count": 7,
   "id": "f1c4a123-a828-417d-a440-432456d35cda",
   "metadata": {},
   "outputs": [
    {
     "name": "stdin",
     "output_type": "stream",
     "text": [
      " 5\n"
     ]
    },
    {
     "name": "stdout",
     "output_type": "stream",
     "text": [
      "1 \n",
      "2 3 \n",
      "4 5 6 \n",
      "7 8 9 10 \n",
      "11 12 13 14 15 \n"
     ]
    }
   ],
   "source": [
    "# Taking input\n",
    "n = int(input())\n",
    "\n",
    "# Write your code here\n",
    "count = 0 \n",
    "for x in range(n):\n",
    "    for y in range(x+1):\n",
    "        count += 1\n",
    "        print(count, end=\" \")\n",
    "    print()"
   ]
  },
  {
   "cell_type": "code",
   "execution_count": 8,
   "id": "0385600c-9b10-4953-90fe-5921345ea13d",
   "metadata": {},
   "outputs": [
    {
     "name": "stdin",
     "output_type": "stream",
     "text": [
      " 10\n"
     ]
    },
    {
     "name": "stdout",
     "output_type": "stream",
     "text": [
      "1 \n",
      "2 3 \n",
      "4 5 6 \n",
      "7 8 9 10 \n",
      "11 12 13 14 15 \n",
      "16 17 18 19 20 21 \n",
      "22 23 24 25 26 27 28 \n",
      "29 30 31 32 33 34 35 36 \n",
      "37 38 39 40 41 42 43 44 45 \n",
      "46 47 48 49 50 51 52 53 54 55 \n"
     ]
    }
   ],
   "source": []
  },
  {
   "cell_type": "raw",
   "id": "a5991ef9-8063-4f0b-abf9-b05594d9ca38",
   "metadata": {},
   "source": [
    "A palindrome is a sequence that reads the same forward and backward. This concept applies to words, numbers, and other sequences. For example:\n",
    "\n",
    "\n",
    "\n",
    "In text, \"madam\" and \"racecar\" are palindromes because the characters are symmetric\n",
    "In numbers, values such as 121, 1331, and 7 are palindromes because their digits remain the same when reversed\n",
    "\n",
    "\n",
    "In this question, you are specifically dealing with integers. Write a program to check whether a given integer is a palindrome.\n",
    "\n",
    "\n",
    "\n",
    "If it does, print \"Palindrome\"\n",
    "Otherwise, print \"Not Palindrome\"\n",
    "\n",
    "\n",
    "\n",
    "\n",
    "Sample Input 1:\n",
    "\n",
    "121\n",
    "\n",
    "\n",
    "\n",
    "Sample Output 1:\n",
    "\n",
    "Palindrome\n",
    "\n",
    "\n",
    "\n",
    "\n",
    "\n",
    "Sample Input 2:\n",
    "\n",
    "10\n",
    "\n",
    "\n",
    "\n",
    "Sample Output 2:\n",
    "\n",
    "Not Palindrome"
   ]
  },
  {
   "cell_type": "code",
   "execution_count": 9,
   "id": "91911b8f-6559-41f8-a150-dd75c51e75b6",
   "metadata": {},
   "outputs": [
    {
     "name": "stdin",
     "output_type": "stream",
     "text": [
      " 121\n"
     ]
    },
    {
     "name": "stdout",
     "output_type": "stream",
     "text": [
      "Palindrome\n"
     ]
    }
   ],
   "source": [
    "# Taking input\n",
    "n = int(input())\n",
    "\n",
    "# Write your code here\n",
    "number = str(n)\n",
    "reverse = ''\n",
    "for x in number:\n",
    "    reverse = x + reverse\n",
    "print(\"Palindrome\") if number == reverse else print(\"Not Palindrome\")"
   ]
  },
  {
   "cell_type": "raw",
   "id": "8fc7bdcb-e5e1-4788-b036-0af58ba88841",
   "metadata": {},
   "source": [
    "Write a program that takes an integer and a single-digit number as input and prints how many times the digit appears in the integer.\n",
    "\n",
    "\n",
    "\n",
    "Sample Input:\n",
    "\n",
    "1234111\n",
    "\n",
    "1\n",
    "\n",
    "\n",
    "\n",
    "Sample Output:\n",
    "\n",
    "4"
   ]
  },
  {
   "cell_type": "code",
   "execution_count": 11,
   "id": "a5c362c1-424e-4c85-88d8-91fe2a9e16f8",
   "metadata": {},
   "outputs": [
    {
     "name": "stdin",
     "output_type": "stream",
     "text": [
      " 1234111\n",
      " 1\n"
     ]
    },
    {
     "name": "stdout",
     "output_type": "stream",
     "text": [
      "4\n"
     ]
    }
   ],
   "source": [
    "# Taking inputs\n",
    "n = int(input())\n",
    "digit_to_count = int(input())\n",
    "\n",
    "# Write your code here\n",
    "number = str(n)\n",
    "digit = str(digit_to_count)\n",
    "count = 0\n",
    "for ch in number:\n",
    "    if ch == digit:\n",
    "        count += 1\n",
    "print(count)\n",
    "# Print the output"
   ]
  },
  {
   "cell_type": "raw",
   "id": "4ea3afa5-f099-4799-a6e6-7404feeda1a5",
   "metadata": {},
   "source": [
    "In a test, there are three sections. Each section is worth 50 marks, and the total score of the test is 150.\n",
    "\n",
    "\n",
    "\n",
    "To pass the test, the student must score at least 30 marks in each section. If the student scores less than 30 in any section, they fail the test.\n",
    "\n",
    "\n",
    "\n",
    "Write a program that:\n",
    "\n",
    "Takes the marks scored in each of the three sections as input\n",
    "Checks if the student scores 30 marks or more in each section\n",
    "Prints \"Pass\" if the student passes all sections, otherwise prints \"Fail\"\n",
    "\n",
    "\n",
    "\n",
    "\n",
    "Sample Input:\n",
    "\n",
    "20\n",
    "\n",
    "30\n",
    "\n",
    "20\n",
    "\n",
    "\n",
    "\n",
    "Sample Output:\n",
    "\n",
    "Fail"
   ]
  },
  {
   "cell_type": "code",
   "execution_count": 12,
   "id": "b90ec472-6b02-49ad-9aa2-9237cfae3791",
   "metadata": {},
   "outputs": [
    {
     "name": "stdin",
     "output_type": "stream",
     "text": [
      " 20\n",
      " 30\n",
      " 20\n"
     ]
    },
    {
     "name": "stdout",
     "output_type": "stream",
     "text": [
      "Fail\n"
     ]
    }
   ],
   "source": [
    "# Taking input\n",
    "section1 = int(input())\n",
    "section2 = int(input())\n",
    "section3 = int(input())\n",
    "\n",
    "# Write your code here\n",
    "\n",
    "if section1 >= 30 and section2 >= 30 and section3 >=30:\n",
    "    print(\"Pass\")\n",
    "else:\n",
    "    print(\"Fail\")"
   ]
  },
  {
   "cell_type": "raw",
   "id": "c29e682b-8635-46c2-b5ad-5770a4285abf",
   "metadata": {},
   "source": [
    "You are in a skyscraper and want to reach a specific floor, but the skyscraper has a faulty elevator. The elevator operates as follows:\n",
    "\n",
    "\n",
    "\n",
    "It moves up by 'u' floors\n",
    "Immediately after, it slips down by 'd' floors\n",
    "Each upward movement (before slipping) is counted as one move\n",
    "The elevator continues this pattern until it reaches or exceeds the target floor during the upward movement\n",
    "\n",
    "\n",
    "\n",
    "\n",
    "Write a program that prints the number of moves the elevator needs to reach or go beyond the target floor based on the values of 'u', 'd', and 'target'.\n",
    "\n",
    "\n",
    "\n",
    "\n",
    "\n",
    "Sample Input:\n",
    "\n",
    "3\n",
    "\n",
    "1\n",
    "\n",
    "10\n",
    "\n",
    "\n",
    "\n",
    "Sample Output:\n",
    "\n",
    "5"
   ]
  },
  {
   "cell_type": "code",
   "execution_count": 13,
   "id": "1c73dea2-b819-49bd-b14e-c5b9f1c1b327",
   "metadata": {},
   "outputs": [
    {
     "name": "stdin",
     "output_type": "stream",
     "text": [
      " 3\n",
      " 1\n",
      " 10\n"
     ]
    },
    {
     "name": "stdout",
     "output_type": "stream",
     "text": [
      "5\n"
     ]
    }
   ],
   "source": [
    "# Read inputs\n",
    "u = int(input())\n",
    "d = int(input())\n",
    "target = int(input())\n",
    "\n",
    "# Write your code here\n",
    "step = u - d\n",
    "count = 0\n",
    "current_floor = 0\n",
    "while True:\n",
    "    current_floor = current_floor + u\n",
    "    count = count + 1\n",
    "    if current_floor >= target:\n",
    "        break\n",
    "    current_floor = current_floor - d\n",
    "print(count)\n",
    "\n",
    "\n",
    "# Print the output"
   ]
  },
  {
   "cell_type": "raw",
   "id": "4612af96-dc8e-48cc-a894-4930bd8e3773",
   "metadata": {},
   "source": [
    "You are given a number n. Print all the perfect squares from 1 up to n (inclusive), each on a new line. A perfect square is a number that can be expressed as the square of an integer (e.g., 1, 4, 9, 16, etc.).\n",
    "\n",
    "\n",
    "\n",
    "Sample Input:\n",
    "\n",
    "20\n",
    "\n",
    "\n",
    "\n",
    "Sample Output:\n",
    "\n",
    "1\n",
    "\n",
    "4\n",
    "\n",
    "9\n",
    "\n",
    "16"
   ]
  },
  {
   "cell_type": "code",
   "execution_count": null,
   "id": "b162f835-f7f7-4fb3-8c41-bfc8b22f902c",
   "metadata": {},
   "outputs": [],
   "source": [
    "# Taking input\n",
    "n = int(input())\n",
    "\n",
    "# Write your code here\n",
    "perfect_square_number = 1\n",
    "number = 1\n",
    "\n",
    "while True:\n",
    "    perfect_square_number = number * number\n",
    "    if(perfect_square_number >= n):\n",
    "        break\n",
    "    print(perfect_square_number)\n",
    "    number = number + 1"
   ]
  },
  {
   "cell_type": "code",
   "execution_count": null,
   "id": "3126ed34-8351-47b4-af8e-81712e4e1d50",
   "metadata": {},
   "outputs": [],
   "source": []
  }
 ],
 "metadata": {
  "kernelspec": {
   "display_name": "Python [conda env:base] *",
   "language": "python",
   "name": "conda-base-py"
  },
  "language_info": {
   "codemirror_mode": {
    "name": "ipython",
    "version": 3
   },
   "file_extension": ".py",
   "mimetype": "text/x-python",
   "name": "python",
   "nbconvert_exporter": "python",
   "pygments_lexer": "ipython3",
   "version": "3.13.5"
  }
 },
 "nbformat": 4,
 "nbformat_minor": 5
}
