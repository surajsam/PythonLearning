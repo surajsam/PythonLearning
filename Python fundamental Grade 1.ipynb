{
 "cells": [
  {
   "cell_type": "markdown",
   "id": "6f3379e8-6129-4409-aed4-4f00e692182b",
   "metadata": {},
   "source": [
    "You are given four integers a, b, c, and d. Perform the following operations:\n",
    "\n",
    "\n",
    "\n",
    "1. Update a using the formula a = a * b + c\n",
    "\n",
    "2. Check if a is divisible by d and greater than both b and c\n",
    "\n",
    "3. Print the result of this condition (True or False)\n",
    "\n",
    "\n",
    "\n",
    "Sample Input:\n",
    "\n",
    "2\n",
    "\n",
    "3\n",
    "\n",
    "4\n",
    "\n",
    "10\n",
    "\n",
    "\n",
    "\n",
    "Sample Output:\n",
    "\n",
    "True"
   ]
  },
  {
   "cell_type": "code",
   "execution_count": 1,
   "id": "b4d5eb82-ae0f-4893-9c77-f5ce551e2ce1",
   "metadata": {},
   "outputs": [
    {
     "name": "stdin",
     "output_type": "stream",
     "text": [
      " 2\n",
      " 7\n",
      " 8\n",
      " 9\n"
     ]
    },
    {
     "name": "stdout",
     "output_type": "stream",
     "text": [
      "False\n"
     ]
    }
   ],
   "source": [
    "# Taking input\n",
    "a = int(input())\n",
    "b = int(input())\n",
    "c = int(input())\n",
    "d = int(input())\n",
    "\n",
    "# Write your code here\n",
    "a = a * b + c\n",
    "result = (a % d == 0) and a > b and a > c\n",
    "# Print the output\n",
    "print(result)"
   ]
  },
  {
   "cell_type": "markdown",
   "id": "64247226-2fbc-414a-8703-319d01c443fa",
   "metadata": {},
   "source": [
    "You are given a 3-digit number. Extract the first and last digits, then form a new 2-digit number where the first digit is the last digit of the input and the second digit is the first digit of the input.\n",
    "\n",
    "\n",
    "\n",
    "Sample Input:\n",
    "\n",
    "781\n",
    "\n",
    "\n",
    "\n",
    "Sample Output:\n",
    "\n",
    "17\n"
   ]
  },
  {
   "cell_type": "code",
   "execution_count": null,
   "id": "3d18bd6b-cbd0-4e26-8ce1-ebc738ae58b7",
   "metadata": {},
   "outputs": [],
   "source": [
    "# Taking input\n",
    "num = int(input())\n",
    "\n",
    "# Write your code here\n",
    "last_digit = num % 10\n",
    "first_digit = num // 100\n",
    "num = last_digit * 10 + first_digit\n",
    "new_number = f\"{num:02}\"\n",
    "# Print the output\n",
    "print(new_number)\n"
   ]
  },
  {
   "cell_type": "markdown",
   "id": "85fff409-8d6d-4f2f-a131-830dafd6f90e",
   "metadata": {},
   "source": [
    "You are given a total number of seconds. Convert it to hours, minutes, and seconds and print it in the format hh:mm:ss.\n",
    "\n",
    "Sample Input:\n",
    "\n",
    "3661\n",
    "\n",
    "\n",
    "\n",
    "Sample Output:\n",
    "\n",
    "01:01:01"
   ]
  },
  {
   "cell_type": "code",
   "execution_count": 4,
   "id": "5abcc9df-8272-4752-9b57-b4e8b4db57c0",
   "metadata": {},
   "outputs": [
    {
     "name": "stdin",
     "output_type": "stream",
     "text": [
      " 3601\n"
     ]
    },
    {
     "name": "stdout",
     "output_type": "stream",
     "text": [
      "01:00:01\n"
     ]
    }
   ],
   "source": [
    "# Taking input\n",
    "total_seconds = int(input())\n",
    "\n",
    "# Write your code here\n",
    "total_mins = total_seconds // 60\n",
    "mins = (total_mins % 60)\n",
    "hrs =  (total_mins // 60) % 24\n",
    "sec =  (total_seconds % 60)\n",
    "\n",
    "output = f\"{hrs:02}:{mins:02}:{sec:02}\"\n",
    "# Print the output\n",
    "print(output)\n"
   ]
  },
  {
   "cell_type": "markdown",
   "id": "5bbfcd30-3f3d-49b8-a3dd-5b2187c8b25f",
   "metadata": {},
   "source": [
    "A vehicle travels two different segments of a journey:\n",
    "\n",
    "\n",
    "\n",
    "1. It covers the first segment at speed s1 for time t1\n",
    "\n",
    "2. Then it covers the second segment at speed s2 for time t2\n",
    "\n",
    "\n",
    "\n",
    "Calculate and print the overall average speed.\n",
    "\n",
    "Note: The average speed should be a whole number\n",
    "\n",
    "\n",
    "\n",
    "Sample Input:\n",
    "\n",
    "60\n",
    "\n",
    "2\n",
    "\n",
    "90\n",
    "\n",
    "1\n",
    "\n",
    "\n",
    "\n",
    "Sample Output:\n",
    "\n",
    "70\n"
   ]
  },
  {
   "cell_type": "code",
   "execution_count": 6,
   "id": "a5b474bd-cacd-4ac3-a7f3-130f2be13989",
   "metadata": {},
   "outputs": [
    {
     "name": "stdin",
     "output_type": "stream",
     "text": [
      " 60\n",
      " 2\n",
      " 90\n",
      " 1\n"
     ]
    },
    {
     "name": "stdout",
     "output_type": "stream",
     "text": [
      "70\n"
     ]
    }
   ],
   "source": [
    "# Taking input\n",
    "s1 = float(input())\n",
    "t1 = float(input())\n",
    "s2 = float(input())\n",
    "t2 = float(input())\n",
    "\n",
    "# Write your code here\n",
    "d1 = s1 * t1\n",
    "d2 = s2 * t2\n",
    "\n",
    "avg_speed = int((d1 + d2)/(t1 + t2))\n",
    "# Print the output\n",
    "print(avg_speed)"
   ]
  },
  {
   "cell_type": "markdown",
   "id": "0b144a52-836f-447f-87df-4622e320bdfa",
   "metadata": {},
   "source": [
    "You are given an amount in rupees. Calculate how many 100s, 50s, 10s, and remaining rupees it contains using successive modulus and floor division.\n",
    "\n",
    "\n",
    "\n",
    "Sample Input:\n",
    "\n",
    "786\n",
    "\n",
    "\n",
    "\n",
    "Sample Output:\n",
    "\n",
    "7 1 3 6"
   ]
  },
  {
   "cell_type": "code",
   "execution_count": 8,
   "id": "72d298c4-6a93-48b8-b567-df11ec670fb5",
   "metadata": {},
   "outputs": [
    {
     "name": "stdin",
     "output_type": "stream",
     "text": [
      " 786\n"
     ]
    },
    {
     "name": "stdout",
     "output_type": "stream",
     "text": [
      "7 1 3 6\n"
     ]
    }
   ],
   "source": [
    "# Taking input\n",
    "amount = int(input())\n",
    "\n",
    "# Write your code here\n",
    "hundreds = amount // 100\n",
    "remaining_amount = amount % 100\n",
    "fifties = remaining_amount // 50\n",
    "remaining_amount = remaining_amount % 50\n",
    "tens = remaining_amount // 10\n",
    "ones = remaining_amount % 10\n",
    "# Print the output\n",
    "print(hundreds, fifties, tens, ones)"
   ]
  },
  {
   "cell_type": "code",
   "execution_count": 13,
   "id": "ebe1f14b-ccb3-4449-ab52-0ea4da85229d",
   "metadata": {},
   "outputs": [],
   "source": [
    "sequence = range(12, 0, -2)"
   ]
  },
  {
   "cell_type": "code",
   "execution_count": 14,
   "id": "7a5e3b1c-3db1-4689-a652-645406dadbfe",
   "metadata": {},
   "outputs": [
    {
     "name": "stdout",
     "output_type": "stream",
     "text": [
      "range(12, 0, -2)\n"
     ]
    }
   ],
   "source": [
    "print(sequence)"
   ]
  },
  {
   "cell_type": "code",
   "execution_count": 15,
   "id": "0cbc58a6-7768-4d55-8082-b4ebc916963f",
   "metadata": {},
   "outputs": [
    {
     "data": {
      "text/plain": [
       "[12, 10, 8, 6, 4, 2]"
      ]
     },
     "execution_count": 15,
     "metadata": {},
     "output_type": "execute_result"
    }
   ],
   "source": [
    "list(sequence)"
   ]
  },
  {
   "cell_type": "code",
   "execution_count": 16,
   "id": "05c21498-a82d-4dee-a8b8-f718736556e2",
   "metadata": {},
   "outputs": [
    {
     "name": "stdin",
     "output_type": "stream",
     "text": [
      " 5\n"
     ]
    }
   ],
   "source": [
    "num = int(input())"
   ]
  },
  {
   "cell_type": "code",
   "execution_count": 17,
   "id": "514c3f6e-2b40-41e7-9c81-6e0988e71457",
   "metadata": {},
   "outputs": [
    {
     "data": {
      "text/plain": [
       "int"
      ]
     },
     "execution_count": 17,
     "metadata": {},
     "output_type": "execute_result"
    }
   ],
   "source": [
    "type(num)"
   ]
  },
  {
   "cell_type": "code",
   "execution_count": 20,
   "id": "3ebd5cc4-c291-48dc-af29-d9b02b9ca0ee",
   "metadata": {},
   "outputs": [],
   "source": [
    "num = str(num)"
   ]
  },
  {
   "cell_type": "code",
   "execution_count": 21,
   "id": "04948e91-d6a4-44a5-b913-1f558f710bc8",
   "metadata": {},
   "outputs": [
    {
     "data": {
      "text/plain": [
       "str"
      ]
     },
     "execution_count": 21,
     "metadata": {},
     "output_type": "execute_result"
    }
   ],
   "source": [
    "type(num)"
   ]
  },
  {
   "cell_type": "code",
   "execution_count": 22,
   "id": "68720c13-7620-473a-8690-1c3e9b19cbb4",
   "metadata": {},
   "outputs": [
    {
     "data": {
      "text/plain": [
       "'5'"
      ]
     },
     "execution_count": 22,
     "metadata": {},
     "output_type": "execute_result"
    }
   ],
   "source": [
    "num"
   ]
  },
  {
   "cell_type": "code",
   "execution_count": 24,
   "id": "6b259543-b2d0-45a6-ab74-231fb4ca61a9",
   "metadata": {},
   "outputs": [],
   "source": [
    "### Quiz Suppose that the value of a variable `customer_type` is `'new'` and the value of a variable `customer_income` is INR $5345662$. Store these values in the right variables and then write `if` s"
   ]
  },
  {
   "cell_type": "code",
   "execution_count": 28,
   "id": "4ace12cb-7359-4e70-8a12-97b913974f6c",
   "metadata": {},
   "outputs": [
    {
     "name": "stdin",
     "output_type": "stream",
     "text": [
      " new\n",
      " 100\n"
     ]
    },
    {
     "name": "stdout",
     "output_type": "stream",
     "text": [
      "explore opportunities other than for business loans\n"
     ]
    }
   ],
   "source": [
    "customer_type = input()\n",
    "customer_income = int(input())\n",
    "\n",
    "if customer_type == \"new\" and customer_income > 4500000:\n",
    "    print(\"Target for bussiness loan\")\n",
    "else:\n",
    "    print(\"explore opportunities other than for business loans\")"
   ]
  },
  {
   "cell_type": "code",
   "execution_count": 31,
   "id": "cfae516a-21f5-4c28-9c92-3afa99feb502",
   "metadata": {},
   "outputs": [
    {
     "name": "stdout",
     "output_type": "stream",
     "text": [
      "5\n"
     ]
    }
   ],
   "source": [
    "word = \"ElePhEntAa\"\n",
    "count = 0\n",
    "for ch in word.lower():\n",
    "    if ch in 'aeiou':\n",
    "        count = count + 1\n",
    "print(count)"
   ]
  },
  {
   "cell_type": "raw",
   "id": "aa767c0a-5b2c-4e53-9e75-f7cc03be8a32",
   "metadata": {},
   "source": [
    "### Quiz 1 Set a variable `sleep_hours` to a value between $0$ and $12$. Use `if-else` Logic: - If `sleep_hours` is $8$ or more, print `\"Fully rested!\"` - If it's $6$ or more but less than $8$, print `\"Slightly tired but good to go.\"` - If it's $4$ or more but less than $6$, print `\"Running low on sleep. Need coffee.\"` - If less than $4$, print `\"Exhausted. Definitely need rest.\"`"
   ]
  },
  {
   "cell_type": "code",
   "execution_count": 35,
   "id": "ef9c2f62-ea98-447e-a0b1-5efb5babdde3",
   "metadata": {},
   "outputs": [
    {
     "name": "stdin",
     "output_type": "stream",
     "text": [
      " 12\n"
     ]
    },
    {
     "name": "stdout",
     "output_type": "stream",
     "text": [
      "Fully rested!\n"
     ]
    }
   ],
   "source": [
    "sleep_hours = int(input())\n",
    "\n",
    "if sleep_hours < 4:\n",
    "    print(\"Exhausted. Definitely need rest.\")\n",
    "elif sleep_hours < 6:\n",
    "    print(\"Running low on sleep. Need coffee.\")\n",
    "elif sleep_hours < 8:\n",
    "    print(\"Slightly tired but good to go.\")\n",
    "else:\n",
    "    print(\"Fully rested!\")\n"
   ]
  },
  {
   "cell_type": "raw",
   "id": "5600f863-41ab-4830-a1b5-d6c6121f19de",
   "metadata": {},
   "source": [
    "### Quiz 2 Set two variables: `age` (for the applicant's age) and `credit_score` (for the applicant's credit score). Use Nested `if-else` Logic: - First, check if the `age` is $18$ or older. If not, print a message saying they must be at least $18$. - If `age` is $18$ or more, check if the `credit_score` is $700$ or higher. If yes, print `\"Loan approved!\"`. If the credit score is lower, print `\"Credit score too low for loan approval.\"`"
   ]
  },
  {
   "cell_type": "code",
   "execution_count": 39,
   "id": "c89658f5-b486-469f-83a4-1279c5446b50",
   "metadata": {},
   "outputs": [
    {
     "name": "stdin",
     "output_type": "stream",
     "text": [
      " 18\n",
      " 700\n"
     ]
    },
    {
     "name": "stdout",
     "output_type": "stream",
     "text": [
      "Loan approved\n"
     ]
    }
   ],
   "source": [
    "age = int(input())\n",
    "credit_score = int(input())\n",
    "\n",
    "if age >= 18:\n",
    "    if credit_score >= 700:\n",
    "        print(\"Loan approved\")\n",
    "    else:\n",
    "        print(\"Credit score too low for loan approval\")\n",
    "else:\n",
    "    print(\"age must be at least 18\")"
   ]
  },
  {
   "cell_type": "raw",
   "id": "bf898c03-1601-433a-a3f6-70b70a55c189",
   "metadata": {},
   "source": [
    "### Quiz 3 Set `secret_number` to the number you want to be guessed, and guess to `None`. Use a `while` loop: - Keep asking for the guess until guess matches `secret_number`. - If the guess is too low, print `\"Too low! Try again.\"` - If the guess is too high, print `\"Too high! Try again.\"` - When the guess is correct, print `\"Congratulations!\"`"
   ]
  },
  {
   "cell_type": "code",
   "execution_count": 47,
   "id": "3c9f202d-8fb6-4022-b7a3-471c1c304a54",
   "metadata": {},
   "outputs": [
    {
     "name": "stdin",
     "output_type": "stream",
     "text": [
      " -7\n"
     ]
    },
    {
     "name": "stdout",
     "output_type": "stream",
     "text": [
      "Congratulations!\n"
     ]
    }
   ],
   "source": [
    "secret_number = -7\n",
    "guess = None\n",
    "\n",
    "while guess != secret_number:\n",
    "    guess = int(input())\n",
    "    if guess < secret_number:\n",
    "        print(\"Too low! Try again.\")\n",
    "    elif guess > secret_number:\n",
    "        print(\"Too high! Try again.\")\n",
    "    else:\n",
    "        print(\"Congratulations!\")\n",
    "    "
   ]
  },
  {
   "cell_type": "raw",
   "id": "485052f3-ee62-4aca-8b9a-7f62ac1fe441",
   "metadata": {},
   "source": [
    "### Quiz 4 Set a variable `stairs` to a number = $10$. Simulate climbing the stairs using a loop: - For each step, print `\"Step X climbed!\"` - If `X` is $5$, print `\"Halfway there!\"` - When done, print `\"Reached the top!\"`"
   ]
  },
  {
   "cell_type": "code",
   "execution_count": 50,
   "id": "ebd1ce3c-7cdd-4542-a82c-d62e296d4e77",
   "metadata": {},
   "outputs": [
    {
     "name": "stdout",
     "output_type": "stream",
     "text": [
      "Step 1 climbed!\n",
      "Step 2 climbed!\n",
      "Step 3 climbed!\n",
      "Step 4 climbed!\n",
      "Halfway there!\n",
      "Step 6 climbed!\n",
      "Step 7 climbed!\n",
      "Step 8 climbed!\n",
      "Step 9 climbed!\n",
      "Reached the top!\n"
     ]
    }
   ],
   "source": [
    "stairs = 10\n",
    "\n",
    "for step in range(1, stairs + 1):\n",
    "    if step == 5:\n",
    "        print(\"Halfway there!\")\n",
    "    elif step == stairs:\n",
    "        print(\"Reached the top!\")\n",
    "    else:\n",
    "        print(f\"Step {step} climbed!\")\n",
    "    \n",
    "    "
   ]
  },
  {
   "cell_type": "raw",
   "id": "fb66008b-0734-477c-b8c9-637282c3e84c",
   "metadata": {},
   "source": [
    "### Quiz 5 Set a variable `battery_level` ($0$–$100$). Simulate charging your phone: - Using a loop, print `\"Charging: X%\"` every $10%$ until `battery_level` reaches $100$. - Once it hits $100%$, print `\"Fully Charged!\"`"
   ]
  },
  {
   "cell_type": "code",
   "execution_count": 58,
   "id": "41d03adf-39e1-4e17-9d46-8caede75a7cd",
   "metadata": {},
   "outputs": [
    {
     "name": "stdout",
     "output_type": "stream",
     "text": [
      "Charging: 20%\n",
      "Charging: 30%\n",
      "Charging: 40%\n",
      "Charging: 50%\n",
      "Charging: 60%\n",
      "Charging: 70%\n",
      "Charging: 80%\n",
      "Charging: 90%\n",
      "Charging: 100%\n",
      "Fully Charged!\n"
     ]
    }
   ],
   "source": [
    "battery_level = 10\n",
    "while (battery_level < 100):\n",
    "    battery_level =  battery_level + 1\n",
    "    if battery_level % 10 == 0:\n",
    "        print(f\"Charging: {battery_level}%\")\n",
    "print(\"Fully Charged!\")"
   ]
  },
  {
   "cell_type": "code",
   "execution_count": 60,
   "id": "5625bd09-de6d-4653-a3ac-e08364237bf7",
   "metadata": {},
   "outputs": [
    {
     "name": "stdout",
     "output_type": "stream",
     "text": [
      "2 * 1 =  2\n",
      "2 * 2 =  4\n",
      "2 * 3 =  6\n",
      "2 * 4 =  8\n",
      "2 * 5 =  10\n",
      "2 * 6 =  12\n",
      "2 * 7 =  14\n",
      "2 * 8 =  16\n",
      "2 * 9 =  18\n",
      "2 * 10 =  20\n"
     ]
    }
   ],
   "source": [
    "number = 2\n",
    "for times in range(1,11):\n",
    "    print(f\"{number} * {times} = \", number*times)"
   ]
  },
  {
   "cell_type": "raw",
   "id": "01c2d4d1-8479-475f-ad33-cbd0d8aa85f1",
   "metadata": {},
   "source": [
    "### Quiz 7 Set `correct_password = \"open123\"`. Allow the user $3$ attempts to guess the password using `input()`. - If the guess is correct, print `\"Access granted!\"` and exit. - If incorrect, print `\"Incorrect. X attempts left.\"` - If $3$ attempts are used, print `\"Account locked.\"`"
   ]
  },
  {
   "cell_type": "code",
   "execution_count": null,
   "id": "c29da608-181a-4c20-9934-2db866a3dd24",
   "metadata": {},
   "outputs": [],
   "source": []
  }
 ],
 "metadata": {
  "kernelspec": {
   "display_name": "Python [conda env:base] *",
   "language": "python",
   "name": "conda-base-py"
  },
  "language_info": {
   "codemirror_mode": {
    "name": "ipython",
    "version": 3
   },
   "file_extension": ".py",
   "mimetype": "text/x-python",
   "name": "python",
   "nbconvert_exporter": "python",
   "pygments_lexer": "ipython3",
   "version": "3.13.5"
  }
 },
 "nbformat": 4,
 "nbformat_minor": 5
}
