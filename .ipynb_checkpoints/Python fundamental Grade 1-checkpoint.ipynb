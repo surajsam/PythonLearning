{
 "cells": [
  {
   "cell_type": "markdown",
   "id": "6f3379e8-6129-4409-aed4-4f00e692182b",
   "metadata": {},
   "source": [
    "You are given four integers a, b, c, and d. Perform the following operations:\n",
    "\n",
    "\n",
    "\n",
    "1. Update a using the formula a = a * b + c\n",
    "\n",
    "2. Check if a is divisible by d and greater than both b and c\n",
    "\n",
    "3. Print the result of this condition (True or False)\n",
    "\n",
    "\n",
    "\n",
    "Sample Input:\n",
    "\n",
    "2\n",
    "\n",
    "3\n",
    "\n",
    "4\n",
    "\n",
    "10\n",
    "\n",
    "\n",
    "\n",
    "Sample Output:\n",
    "\n",
    "True"
   ]
  },
  {
   "cell_type": "code",
   "execution_count": null,
   "id": "b4d5eb82-ae0f-4893-9c77-f5ce551e2ce1",
   "metadata": {},
   "outputs": [
    {
     "ename": "",
     "evalue": "",
     "output_type": "error",
     "traceback": [
      "\u001b[1;31mRunning cells with 'Python 3.9.6' requires the ipykernel package.\n",
      "\u001b[1;31mRun the following command to install 'ipykernel' into the Python environment. \n",
      "\u001b[1;31mCommand: '/usr/bin/python3 -m pip install ipykernel -U --user --force-reinstall'"
     ]
    }
   ],
   "source": [
    "# Taking input\n",
    "a = int(input())\n",
    "b = int(input())\n",
    "c = int(input())\n",
    "d = int(input())\n",
    "\n",
    "# Write your code here\n",
    "a = a * b + c\n",
    "result = (a % d == 0) and a > b and a > c\n",
    "# Print the output\n",
    "print(result)"
   ]
  },
  {
   "cell_type": "markdown",
   "id": "64247226-2fbc-414a-8703-319d01c443fa",
   "metadata": {},
   "source": [
    "You are given a 3-digit number. Extract the first and last digits, then form a new 2-digit number where the first digit is the last digit of the input and the second digit is the first digit of the input.\n",
    "\n",
    "\n",
    "\n",
    "Sample Input:\n",
    "\n",
    "781\n",
    "\n",
    "\n",
    "\n",
    "Sample Output:\n",
    "\n",
    "17\n"
   ]
  },
  {
   "cell_type": "code",
   "execution_count": null,
   "id": "3d18bd6b-cbd0-4e26-8ce1-ebc738ae58b7",
   "metadata": {},
   "outputs": [],
   "source": [
    "# Taking input\n",
    "num = int(input())\n",
    "\n",
    "# Write your code here\n",
    "last_digit = num % 10\n",
    "first_digit = num // 100\n",
    "num = last_digit * 10 + first_digit\n",
    "new_number = f\"{num:02}\"\n",
    "# Print the output\n",
    "print(new_number)\n"
   ]
  },
  {
   "cell_type": "markdown",
   "id": "85fff409-8d6d-4f2f-a131-830dafd6f90e",
   "metadata": {},
   "source": [
    "You are given a total number of seconds. Convert it to hours, minutes, and seconds and print it in the format hh:mm:ss.\n",
    "\n",
    "Sample Input:\n",
    "\n",
    "3661\n",
    "\n",
    "\n",
    "\n",
    "Sample Output:\n",
    "\n",
    "01:01:01"
   ]
  },
  {
   "cell_type": "code",
   "execution_count": 4,
   "id": "5abcc9df-8272-4752-9b57-b4e8b4db57c0",
   "metadata": {},
   "outputs": [
    {
     "name": "stdout",
     "output_type": "stream",
     "text": [
      " 3601\n"
     ]
    },
    {
     "name": "stdout",
     "output_type": "stream",
     "text": [
      "01:00:01\n"
     ]
    }
   ],
   "source": [
    "# Taking input\n",
    "total_seconds = int(input())\n",
    "\n",
    "# Write your code here\n",
    "total_mins = total_seconds // 60\n",
    "mins = (total_mins % 60)\n",
    "hrs =  (total_mins // 60) % 24\n",
    "sec =  (total_seconds % 60)\n",
    "\n",
    "output = f\"{hrs:02}:{mins:02}:{sec:02}\"\n",
    "# Print the output\n",
    "print(output)\n"
   ]
  },
  {
   "cell_type": "markdown",
   "id": "5bbfcd30-3f3d-49b8-a3dd-5b2187c8b25f",
   "metadata": {},
   "source": [
    "A vehicle travels two different segments of a journey:\n",
    "\n",
    "\n",
    "\n",
    "1. It covers the first segment at speed s1 for time t1\n",
    "\n",
    "2. Then it covers the second segment at speed s2 for time t2\n",
    "\n",
    "\n",
    "\n",
    "Calculate and print the overall average speed.\n",
    "\n",
    "Note: The average speed should be a whole number\n",
    "\n",
    "\n",
    "\n",
    "Sample Input:\n",
    "\n",
    "60\n",
    "\n",
    "2\n",
    "\n",
    "90\n",
    "\n",
    "1\n",
    "\n",
    "\n",
    "\n",
    "Sample Output:\n",
    "\n",
    "70\n"
   ]
  },
  {
   "cell_type": "code",
   "execution_count": 6,
   "id": "a5b474bd-cacd-4ac3-a7f3-130f2be13989",
   "metadata": {},
   "outputs": [
    {
     "name": "stdout",
     "output_type": "stream",
     "text": [
      " 60\n",
      " 2\n",
      " 90\n",
      " 1\n"
     ]
    },
    {
     "name": "stdout",
     "output_type": "stream",
     "text": [
      "70\n"
     ]
    }
   ],
   "source": [
    "# Taking input\n",
    "s1 = float(input())\n",
    "t1 = float(input())\n",
    "s2 = float(input())\n",
    "t2 = float(input())\n",
    "\n",
    "# Write your code here\n",
    "d1 = s1 * t1\n",
    "d2 = s2 * t2\n",
    "\n",
    "avg_speed = int((d1 + d2)/(t1 + t2))\n",
    "# Print the output\n",
    "print(avg_speed)"
   ]
  },
  {
   "cell_type": "markdown",
   "id": "0b144a52-836f-447f-87df-4622e320bdfa",
   "metadata": {},
   "source": [
    "You are given an amount in rupees. Calculate how many 100s, 50s, 10s, and remaining rupees it contains using successive modulus and floor division.\n",
    "\n",
    "\n",
    "\n",
    "Sample Input:\n",
    "\n",
    "786\n",
    "\n",
    "\n",
    "\n",
    "Sample Output:\n",
    "\n",
    "7 1 3 6"
   ]
  },
  {
   "cell_type": "code",
   "execution_count": 7,
   "id": "72d298c4-6a93-48b8-b567-df11ec670fb5",
   "metadata": {},
   "outputs": [
    {
     "name": "stdout",
     "output_type": "stream",
     "text": [
      " 786\n"
     ]
    },
    {
     "name": "stdout",
     "output_type": "stream",
     "text": [
      "7 1 3 6\n"
     ]
    }
   ],
   "source": [
    "# Taking input\n",
    "amount = int(input())\n",
    "\n",
    "# Write your code here\n",
    "hundreds = amount // 100\n",
    "remaining_amount = amount % 100\n",
    "fifties = remaining_amount // 50\n",
    "remaining_amount = remaining_amount % 50\n",
    "tens = remaining_amount // 10\n",
    "ones = remaining_amount % 10\n",
    "# Print the output\n",
    "print(hundreds, fifties, tens, ones)"
   ]
  },
  {
   "cell_type": "code",
   "execution_count": null,
   "id": "ebe1f14b-ccb3-4449-ab52-0ea4da85229d",
   "metadata": {},
   "outputs": [],
   "source": []
  }
 ],
 "metadata": {
  "kernelspec": {
   "display_name": "Python 3",
   "language": "python",
   "name": "python3"
  },
  "language_info": {
   "codemirror_mode": {
    "name": "ipython",
    "version": 3
   },
   "file_extension": ".py",
   "mimetype": "text/x-python",
   "name": "python",
   "nbconvert_exporter": "python",
   "pygments_lexer": "ipython3",
   "version": "3.9.6"
  }
 },
 "nbformat": 4,
 "nbformat_minor": 5
}
